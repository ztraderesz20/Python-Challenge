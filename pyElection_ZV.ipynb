{
 "cells": [
  {
   "cell_type": "code",
   "execution_count": 71,
   "metadata": {},
   "outputs": [
    {
     "name": "stdout",
     "output_type": "stream",
     "text": [
      "Election Results\n",
      "------------------------------------\n",
      "Total Votes:  3521001\n",
      "------------------------------------\n",
      "[('Correy', '20.000', 704200), ('Li', '14.000', 492940), (\"O'Tooley\", '3.000', 105630), ('Khan', '63.000', 2218231)]\n"
     ]
    }
   ],
   "source": [
    "import os\n",
    "import csv\n",
    "\n",
    "#  Define path to data file\n",
    "election_csv = os.path.join('Resources', 'election_data.csv')\n",
    "\n",
    "#  Open and read csv data file\n",
    "with open(election_csv, 'r') as csvfile:\n",
    "    election_reader = csv.reader(csvfile, delimiter=',')\n",
    "    header = next(election_reader)\n",
    "    \n",
    "    voter_id = []\n",
    "    candidate = []\n",
    "    \n",
    "    for row in election_reader:\n",
    "        voter_id.append(row[0])\n",
    "        candidate.append(row[2])\n",
    "\n",
    "#  Answer.1\n",
    "total_votes = len(voter_id)\n",
    "\n",
    "# Answer.2\n",
    "unique_cand = list(set(candidate))\n",
    "\n",
    "count_khan = 0\n",
    "count_li = 0\n",
    "count_otooley = 0\n",
    "count_correy = 0\n",
    "\n",
    "for i in candidate:\n",
    "    if i == \"Khan\":\n",
    "        count_khan = count_khan + 1\n",
    "    elif i == \"Li\":\n",
    "        count_li = count_li + 1\n",
    "    elif i == \"O'Tooley\":\n",
    "        count_otooley = count_otooley + 1\n",
    "    elif i == \"Correy\":\n",
    "        count_correy = count_correy + 1\n",
    "\n",
    "cand_counts = [count_correy, count_li, count_otooley, count_khan ]\n",
    "\n",
    "#  Calculate percentages for each candidate\n",
    "cand_pct = []\n",
    "for x in cand_counts:\n",
    "    cand_pct.append(x/total_votes*100)\n",
    "\n",
    "#  Apply formatting for 3 decimal places    \n",
    "cand_pct3 = [ '%.3f' % elem for elem in cand_pct ]\n",
    "\n",
    "#  Combine lists into tuple\n",
    "zip_list = zip(unique_cand, cand_pct3, cand_counts)\n",
    "\n",
    "#  Output formatting to terminal\n",
    "#------------------------------------------------------------------------------------------------\n",
    "print( 'Election Results')\n",
    "print('------------------------------------')\n",
    "print(f'Total Votes:  {total_votes}')\n",
    "print('------------------------------------')\n",
    "\n",
    "print(list(zip_list))\n",
    "\n",
    "#  Output results to data file\n",
    "#-------------------------------------------------------------------------------------------\n",
    "election_results_file = os.path.join('output','election_results.csv')\n",
    "with open(election_results_file, 'w') as csvfile:\n",
    "    csvwriter = csv.writer(csvfile, delimiter=',')\n",
    "    csvwriter.writerow(['Election Results'])\n",
    "    csvwriter.writerow(['Total Votes:', total_votes])\n",
    "\n",
    "    "
   ]
  },
  {
   "cell_type": "code",
   "execution_count": null,
   "metadata": {},
   "outputs": [],
   "source": []
  }
 ],
 "metadata": {
  "kernelspec": {
   "display_name": "Python 3",
   "language": "python",
   "name": "python3"
  },
  "language_info": {
   "codemirror_mode": {
    "name": "ipython",
    "version": 3
   },
   "file_extension": ".py",
   "mimetype": "text/x-python",
   "name": "python",
   "nbconvert_exporter": "python",
   "pygments_lexer": "ipython3",
   "version": "3.7.4"
  }
 },
 "nbformat": 4,
 "nbformat_minor": 2
}
